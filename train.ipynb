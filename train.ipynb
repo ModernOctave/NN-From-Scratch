{
 "cells": [
  {
   "cell_type": "code",
   "execution_count": 46,
   "metadata": {},
   "outputs": [],
   "source": [
    "from layer import DenseLayer\n",
    "from loss import MSE\n",
    "from model import SequentialModel"
   ]
  },
  {
   "cell_type": "code",
   "execution_count": 47,
   "metadata": {},
   "outputs": [],
   "source": [
    "X = [[1.0], [2.0], [3.0], [4.0], [5.0]]\n",
    "Y = [[2.0], [4.0], [6.0], [8.0], [10.0]]"
   ]
  },
  {
   "cell_type": "code",
   "execution_count": 48,
   "metadata": {},
   "outputs": [],
   "source": [
    "model = SequentialModel([\n",
    "\tDenseLayer(1, 1)\n",
    "], MSE())"
   ]
  },
  {
   "cell_type": "code",
   "execution_count": 49,
   "metadata": {},
   "outputs": [
    {
     "name": "stdout",
     "output_type": "stream",
     "text": [
      "Epoch: 0 Error: 6.125634237600427\n",
      "Epoch: 1 Error: 0.05738453775387628\n",
      "Epoch: 2 Error: 0.050143700839089214\n",
      "Epoch: 3 Error: 0.04651813963950448\n",
      "Epoch: 4 Error: 0.04313962626040608\n",
      "Epoch: 5 Error: 0.04000657243009243\n",
      "Epoch: 6 Error: 0.03710105894608465\n",
      "Epoch: 7 Error: 0.03440656100782412\n",
      "Epoch: 8 Error: 0.0319077534176278\n",
      "Epoch: 9 Error: 0.029590423987117837\n",
      "Epoch: 10 Error: 0.027441392700924598\n",
      "Epoch: 11 Error: 0.025448436754207708\n",
      "Epoch: 12 Error: 0.02360022103437513\n",
      "Epoch: 13 Error: 0.02188623365163185\n",
      "Epoch: 14 Error: 0.020296726151679552\n",
      "Epoch: 15 Error: 0.018822658070524505\n",
      "Epoch: 16 Error: 0.01745564551604113\n",
      "Epoch: 17 Error: 0.016187913483847117\n",
      "Epoch: 18 Error: 0.015012251636280517\n",
      "Epoch: 19 Error: 0.0139219732929686\n",
      "Epoch: 20 Error: 0.01291087739974448\n",
      "Epoch: 21 Error: 0.011973213259604567\n",
      "Epoch: 22 Error: 0.0111036478251128\n",
      "Epoch: 23 Error: 0.010297235366223186\n",
      "Epoch: 24 Error: 0.009549389341004307\n",
      "Epoch: 25 Error: 0.008855856309277765\n",
      "Epoch: 26 Error: 0.008212691740802691\n",
      "Epoch: 27 Error: 0.007616237580411773\n",
      "Epoch: 28 Error: 0.007063101442500769\n",
      "Epoch: 29 Error: 0.006550137316535625\n",
      "Epoch: 30 Error: 0.00607442767384092\n",
      "Epoch: 31 Error: 0.005633266873898143\n",
      "Epoch: 32 Error: 0.005224145775776892\n",
      "Epoch: 33 Error: 0.004844737467174526\n",
      "Epoch: 34 Error: 0.004492884029897545\n",
      "Epoch: 35 Error: 0.004166584266511599\n",
      "Epoch: 36 Error: 0.003863982318354603\n",
      "Epoch: 37 Error: 0.0035833571101772117\n",
      "Epoch: 38 Error: 0.0033231125613756496\n",
      "Epoch: 39 Error: 0.0030817685081425093\n",
      "Epoch: 40 Error: 0.0028579522849047174\n",
      "Epoch: 41 Error: 0.0026503909171669143\n",
      "Epoch: 42 Error: 0.0024579038813571544\n",
      "Epoch: 43 Error: 0.002279396390494852\n",
      "Epoch: 44 Error: 0.0021138531674932976\n",
      "Epoch: 45 Error: 0.0019603326706819093\n",
      "Epoch: 46 Error: 0.0018179617387048667\n",
      "Epoch: 47 Error: 0.0016859306243389382\n",
      "Epoch: 48 Error: 0.001563488388984975\n",
      "Epoch: 49 Error: 0.0014499386316380737\n",
      "Epoch: 50 Error: 0.0013446355280459705\n",
      "Epoch: 51 Error: 0.0012469801575262453\n",
      "Epoch: 52 Error: 0.0011564170965524267\n",
      "Epoch: 53 Error: 0.0010724312597336747\n",
      "Epoch: 54 Error: 0.0009945449702211465\n",
      "Epoch: 55 Error: 0.0009223152428788721\n",
      "Epoch: 56 Error: 0.000855331264766814\n",
      "Epoch: 57 Error: 0.0007932120586059581\n",
      "Epoch: 58 Error: 0.0007356043159365158\n",
      "Epoch: 59 Error: 0.000682180387644886\n",
      "Epoch: 60 Error: 0.0006326364204305435\n",
      "Epoch: 61 Error: 0.0005866906286134909\n",
      "Epoch: 62 Error: 0.0005440816914534185\n",
      "Epoch: 63 Error: 0.0005045672668650042\n",
      "Epoch: 64 Error: 0.0004679226130758703\n",
      "Epoch: 65 Error: 0.00043393931038797985\n",
      "Epoch: 66 Error: 0.000402424075772247\n",
      "Epoch: 67 Error: 0.00037319766355428045\n",
      "Epoch: 68 Error: 0.00034609384593878393\n",
      "Epoch: 69 Error: 0.0003209584675743038\n",
      "Epoch: 70 Error: 0.00029764856878115447\n",
      "Epoch: 71 Error: 0.00027603157245560173\n",
      "Epoch: 72 Error: 0.0002559845300258545\n",
      "Epoch: 73 Error: 0.00023739342217127084\n",
      "Epoch: 74 Error: 0.00022015251032747184\n",
      "Epoch: 75 Error: 0.0002041637352888496\n",
      "Epoch: 76 Error: 0.00018933615948820575\n",
      "Epoch: 77 Error: 0.00017558544978141553\n",
      "Epoch: 78 Error: 0.0001628333977951145\n",
      "Epoch: 79 Error: 0.00015100747510974933\n",
      "Epoch: 80 Error: 0.00014004042074779473\n",
      "Epoch: 81 Error: 0.00012986985862101723\n",
      "Epoch: 82 Error: 0.00012043794276095532\n",
      "Epoch: 83 Error: 0.00011169102831489184\n",
      "Epoch: 84 Error: 0.00010357936643602946\n",
      "Epoch: 85 Error: 9.605682133251805e-05\n",
      "Epoch: 86 Error: 8.908060786610957e-05\n",
      "Epoch: 87 Error: 8.261104820785794e-05\n",
      "Epoch: 88 Error: 7.661134616704483e-05\n",
      "Epoch: 89 Error: 7.104737790955152e-05\n",
      "Epoch: 90 Error: 6.588749787551329e-05\n",
      "Epoch: 91 Error: 6.11023587925062e-05\n",
      "Epoch: 92 Error: 5.66647447602699e-05\n",
      "Epoch: 93 Error: 5.254941645788004e-05\n",
      "Epoch: 94 Error: 4.8732967592924377e-05\n",
      "Epoch: 95 Error: 4.5193691776130715e-05\n",
      "Epoch: 96 Error: 4.191145906436685e-05\n",
      "Epoch: 97 Error: 3.8867601469807275e-05\n",
      "Epoch: 98 Error: 3.604480678412444e-05\n",
      "Epoch: 99 Error: 3.342702011376253e-05\n"
     ]
    }
   ],
   "source": [
    "model.fit(X, Y, epochs=100, learning_rate=0.1)"
   ]
  },
  {
   "cell_type": "code",
   "execution_count": 50,
   "metadata": {},
   "outputs": [],
   "source": [
    "import numpy as np\n",
    "import matplotlib.pyplot as plt"
   ]
  },
  {
   "cell_type": "code",
   "execution_count": 51,
   "metadata": {},
   "outputs": [
    {
     "data": {
      "text/plain": [
       "array([[199.77407565]])"
      ]
     },
     "execution_count": 51,
     "metadata": {},
     "output_type": "execute_result"
    }
   ],
   "source": [
    "model.predict([[100]])"
   ]
  }
 ],
 "metadata": {
  "kernelspec": {
   "display_name": "Python 3.10.5 64-bit",
   "language": "python",
   "name": "python3"
  },
  "language_info": {
   "codemirror_mode": {
    "name": "ipython",
    "version": 3
   },
   "file_extension": ".py",
   "mimetype": "text/x-python",
   "name": "python",
   "nbconvert_exporter": "python",
   "pygments_lexer": "ipython3",
   "version": "3.10.5"
  },
  "orig_nbformat": 4,
  "vscode": {
   "interpreter": {
    "hash": "767d51c1340bd893661ea55ea3124f6de3c7a262a8b4abca0554b478b1e2ff90"
   }
  }
 },
 "nbformat": 4,
 "nbformat_minor": 2
}
